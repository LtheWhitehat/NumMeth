{
 "cells": [
  {
   "attachments": {},
   "cell_type": "markdown",
   "metadata": {},
   "source": [
    "# Crescimento logaritmico\n",
    "## Método de Euler"
   ]
  },
  {
   "cell_type": "code",
   "execution_count": 3,
   "metadata": {},
   "outputs": [
    {
     "data": {
      "text/plain": [
       "94.75178882959086"
      ]
     },
     "metadata": {},
     "output_type": "display_data"
    }
   ],
   "source": [
    "function Euler(h, limit)\n",
    "    t = 0\n",
    "    y = 1\n",
    "    while t < limit\n",
    "        y = 100*exp(t)/(9+exp(t)) + (900 - 99*exp(t))/(81+19*exp(t))\n",
    "        t = t + h\n",
    "        #display(y)\n",
    "    end\n",
    "    return y\n",
    "end"
   ]
  },
  {
   "attachments": {},
   "cell_type": "markdown",
   "metadata": {},
   "source": [
    "## Série de Taylor de 2ª ordem"
   ]
  },
  {
   "cell_type": "code",
   "execution_count": 12,
   "metadata": {},
   "outputs": [
    {
     "data": {
      "text/plain": [
       "94.75020993842487"
      ]
     },
     "metadata": {},
     "output_type": "display_data"
    }
   ],
   "source": [
    "function taylor(h, limit)\n",
    "    t = 0\n",
    "    y = 1\n",
    "    while t < limit\n",
    "        y = 100*exp(t)/(9+exp(t)) + (900 - 99*exp(t))/(81+19*exp(t))+(((-8019*exp(t) - 17100*exp(t))/(6561+3078*exp(t) + 361*exp(2*t))/2))\n",
    "        t = t + h\n",
    "        #display(y)\n",
    "    end\n",
    "    return y\n",
    "end"
   ]
  },
  {
   "cell_type": "code",
   "execution_count": null,
   "metadata": {},
   "outputs": [],
   "source": [
    "function runge_kutta(h, t_final)\n",
    "    # Valor inicial\n",
    "    t = 0\n",
    "    P = 10\n",
    "\n",
    "    # Vetores para armazenar os valores de t e P(t)\n",
    "    t_values = [t]\n",
    "    P_values = [P]\n",
    "\n",
    "    while t < t_final\n",
    "        # Cálculo dos coeficientes k1, k2, k3 e k4\n",
    "        k1 = h * (100 * exp(t) * (9 + exp(t)) - 100 * exp(t) * exp(t)) / (9 + exp(t)) ^ 2\n",
    "        k2 = h * (100 * exp(t + h/2) * (9 + exp(t + h/2)) - 100 * exp(t + h/2) * exp(t + h/2)) / (9 + exp(t + h/2)) ^ 2\n",
    "        k3 = h * (100 * exp(t + h/2) * (9 + exp(t + h/2)) - 100 * exp(t + h/2) * exp(t + h/2)) / (9 + exp(t + h/2)) ^ 2\n",
    "        k4 = h * (100 * exp(t + h) * (9 + exp(t + h)) - 100 * exp(t + h) * exp(t + h)) / (9 + exp(t + h)) ^ 2\n",
    "\n",
    "        # Atualização de t e P(t)\n",
    "        t += h\n",
    "        P += (k1 + 2*k2 + 2*k3 + k4) / 6\n",
    "\n",
    "        # Armazenamento dos valores de t e P(t)\n",
    "        push!(t_values, t)\n",
    "        push!(P_values, P)\n",
    "    end\n",
    "\n",
    "    return t_values, P_values\n",
    "end\n"
   ]
  },
  {
   "cell_type": "code",
   "execution_count": 1,
   "metadata": {},
   "outputs": [
    {
     "name": "stdout",
     "output_type": "stream",
     "text": [
      "h = 1.0e-8\n"
     ]
    },
    {
     "ename": "UndefVarError",
     "evalue": "UndefVarError: `Euler` not defined",
     "output_type": "error",
     "traceback": [
      "UndefVarError: `Euler` not defined\n",
      "\n",
      "Stacktrace:\n",
      " [1] top-level scope\n",
      "   @ /run/media/lthewhitehat/Command/coding projects/RE CTF files/loggrowth.ipynb:4"
     ]
    }
   ],
   "source": [
    "h = 10^-8\n",
    "while h < 1\n",
    "    println(\"h = \", h)\n",
    "    println(\"Euler: \", Euler(h, 10))\n",
    "    println(\"Taylor: \", taylor(h, 10))\n",
    "    println(\"Runge-Kutta: \", runge_kutta(h, 10))\n",
    "    h = h*10\n",
    "end"
   ]
  },
  {
   "cell_type": "code",
   "execution_count": null,
   "metadata": {},
   "outputs": [],
   "source": []
  }
 ],
 "metadata": {
  "kernelspec": {
   "display_name": "Julia 1.9.0",
   "language": "julia",
   "name": "julia-1.9"
  },
  "language_info": {
   "file_extension": ".jl",
   "mimetype": "application/julia",
   "name": "julia",
   "version": "1.9.0"
  },
  "orig_nbformat": 4
 },
 "nbformat": 4,
 "nbformat_minor": 2
}
